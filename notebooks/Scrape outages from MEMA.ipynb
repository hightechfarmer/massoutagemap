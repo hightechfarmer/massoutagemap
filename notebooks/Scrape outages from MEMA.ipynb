{
 "cells": [
  {
   "cell_type": "code",
   "execution_count": 1,
   "metadata": {
    "collapsed": true,
    "deletable": true,
    "editable": true
   },
   "outputs": [],
   "source": [
    "import gspread\n",
    "from oauth2client.service_account import ServiceAccountCredentials\n",
    "from gspread_dataframe import get_as_dataframe, set_with_dataframe\n",
    "import pandas as pd\n",
    "from fuzzywuzzy import fuzz\n",
    "from fuzzywuzzy import process\n",
    "import time"
   ]
  },
  {
   "cell_type": "markdown",
   "metadata": {},
   "source": [
    "#### Load Google credentials and project settings with the gspread module "
   ]
  },
  {
   "cell_type": "markdown",
   "metadata": {},
   "source": [
    "Before you can use the module, you need to obtain OAuth2 credentials from Google (\"http://gspread.readthedocs.io/en/latest/oauth2.html\"). Save the json file with credentials to the local disk. Also remember to share the spreadsheet with the client_email listed in the json file."
   ]
  },
  {
   "cell_type": "code",
   "execution_count": 2,
   "metadata": {
    "collapsed": true,
    "deletable": true,
    "editable": true
   },
   "outputs": [],
   "source": [
    "scope = ['https://spreadsheets.google.com/feeds']\n",
    "credentials = ServiceAccountCredentials.from_json_keyfile_name('My Project-cd8f0fca74a6.json', scope)\n",
    "gc = gspread.authorize(credentials)"
   ]
  },
  {
   "cell_type": "code",
   "execution_count": 3,
   "metadata": {
    "collapsed": true
   },
   "outputs": [],
   "source": [
    "# Load power outage spreadsheet and save as pandas dataframe"
   ]
  },
  {
   "cell_type": "code",
   "execution_count": 4,
   "metadata": {
    "collapsed": true,
    "deletable": true,
    "editable": true
   },
   "outputs": [],
   "source": [
    "wks = gc.open(\"Massachusetts power outage data\").sheet1\n",
    "outages_df = get_as_dataframe(wks)"
   ]
  },
  {
   "cell_type": "code",
   "execution_count": 5,
   "metadata": {
    "collapsed": true
   },
   "outputs": [],
   "source": [
    "# Save the list of cities and towns in Massachusetts as a list"
   ]
  },
  {
   "cell_type": "code",
   "execution_count": 6,
   "metadata": {
    "collapsed": false,
    "deletable": true,
    "editable": true
   },
   "outputs": [],
   "source": [
    "municipalities = outages_df['Municipality'].unique()"
   ]
  },
  {
   "cell_type": "markdown",
   "metadata": {},
   "source": [
    "#### Scrape power outage reports from the MEMA website (\"http://mema.mapsonline.net/public.html\")"
   ]
  },
  {
   "cell_type": "code",
   "execution_count": 7,
   "metadata": {
    "collapsed": true,
    "deletable": true,
    "editable": true
   },
   "outputs": [],
   "source": [
    "from selenium import webdriver\n",
    "from selenium.webdriver.common.keys import Keys\n",
    "from bs4 import BeautifulSoup\n",
    "import re\n",
    "from __future__ import division"
   ]
  },
  {
   "cell_type": "code",
   "execution_count": 8,
   "metadata": {
    "collapsed": true
   },
   "outputs": [],
   "source": [
    "# Launch a browser with selenium and navigate to power outage reports"
   ]
  },
  {
   "cell_type": "code",
   "execution_count": 9,
   "metadata": {
    "collapsed": false,
    "deletable": true,
    "editable": true
   },
   "outputs": [],
   "source": [
    "driver = webdriver.Chrome()\n",
    "driver.get(\"http://mema.mapsonline.net/public.html\")"
   ]
  },
  {
   "cell_type": "code",
   "execution_count": 10,
   "metadata": {
    "collapsed": false,
    "deletable": true,
    "editable": true
   },
   "outputs": [],
   "source": [
    "outagereport = driver.find_element_by_xpath('/html/body/div[7]/div/div[3]/div')\n",
    "outagereport.click()\n",
    "time.sleep(10)"
   ]
  },
  {
   "cell_type": "code",
   "execution_count": 11,
   "metadata": {
    "collapsed": true
   },
   "outputs": [],
   "source": [
    "# Parse the HTML with BeautifulSoup"
   ]
  },
  {
   "cell_type": "code",
   "execution_count": 12,
   "metadata": {
    "collapsed": true,
    "deletable": true,
    "editable": true
   },
   "outputs": [],
   "source": [
    "html_source = driver.page_source\n",
    "mema_soup = BeautifulSoup(html_source)"
   ]
  },
  {
   "cell_type": "code",
   "execution_count": 13,
   "metadata": {
    "collapsed": false,
    "deletable": true,
    "editable": true,
    "scrolled": true
   },
   "outputs": [
    {
     "data": {
      "text/plain": [
       "<tr class=\"tablesorter-headerRow\" role=\"row\"><th aria-controls=\"table_503879\" aria-disabled=\"false\" aria-label=\": No sort applied, activate to apply an ascending sort\" aria-sort=\"none\" class=\"tablesorter-header tablesorter-headerUnSorted\" data-column=\"0\" role=\"columnheader\" scope=\"col\" style=\"user-select: none;\" tabindex=\"0\" unselectable=\"on\"><div class=\"tablesorter-header-inner\"><img src=\"/mema/poweroutage/1_town.png\"/></div></th><th aria-controls=\"table_503879\" aria-disabled=\"false\" aria-label=\": Descending sort applied, activate to apply an ascending sort\" aria-sort=\"descending\" class=\"tablesorter-header tablesorter-headerDesc\" data-column=\"1\" role=\"columnheader\" scope=\"col\" style=\"user-select: none;\" tabindex=\"0\" unselectable=\"on\"><div class=\"tablesorter-header-inner\"><img src=\"/mema/poweroutage/3_pct_no_power.png\"/></div></th><th aria-controls=\"table_503879\" aria-disabled=\"false\" aria-label=\": No sort applied, activate to apply an ascending sort\" aria-sort=\"none\" class=\"tablesorter-header tablesorter-headerUnSorted\" data-column=\"2\" role=\"columnheader\" scope=\"col\" style=\"user-select: none;\" tabindex=\"0\" unselectable=\"on\"><div class=\"tablesorter-header-inner\"><img src=\"/mema/poweroutage/4_cust_no_power.png\"/></div></th><th aria-controls=\"table_503879\" aria-disabled=\"false\" aria-label=\": No sort applied, activate to apply an ascending sort\" aria-sort=\"none\" class=\"tablesorter-header tablesorter-headerUnSorted\" data-column=\"3\" role=\"columnheader\" scope=\"col\" style=\"user-select: none;\" tabindex=\"0\" unselectable=\"on\"><div class=\"tablesorter-header-inner\"><img src=\"/mema/poweroutage/2_num_customers.png\"/></div></th></tr>"
      ]
     },
     "execution_count": 13,
     "metadata": {},
     "output_type": "execute_result"
    }
   ],
   "source": [
    "mema_table = mema_soup.find(\"div\", class_=\"muni_table\")\n",
    "mema_rows = mema_table.findAll(lambda tag: tag.name=='tr')\n",
    "mema_rows.pop(0)"
   ]
  },
  {
   "cell_type": "code",
   "execution_count": 14,
   "metadata": {
    "collapsed": true
   },
   "outputs": [],
   "source": [
    "# Save the data from each city and town to a dictionary (mema_outages)"
   ]
  },
  {
   "cell_type": "code",
   "execution_count": 15,
   "metadata": {
    "collapsed": false,
    "deletable": true,
    "editable": true
   },
   "outputs": [],
   "source": [
    "mema_outages = {}\n",
    "for town in mema_rows:\n",
    "    townoutages = town.findAll('td')\n",
    "    town_name = townoutages[0].text\n",
    "    town_name_matched = process.extract(town_name, municipalities, limit=1)\n",
    "    townoutages_dict = {'customers_served': int(townoutages[3].text),\n",
    "                        'customers_affected': int(townoutages[2].text),\n",
    "                        'percent_of_total': float(townoutages[1].text.replace(\"%\", \"\")),\n",
    "                        'percent_of_total_string': townoutages[1].text}\n",
    "    mema_outages[town_name_matched[0][0]] = townoutages_dict"
   ]
  },
  {
   "cell_type": "markdown",
   "metadata": {
    "deletable": true,
    "editable": true
   },
   "source": [
    "#### Update the Google spreadsheet"
   ]
  },
  {
   "cell_type": "code",
   "execution_count": 16,
   "metadata": {
    "collapsed": true,
    "deletable": true,
    "editable": true
   },
   "outputs": [],
   "source": [
    "outages_df['% without power'] = \"0%\"\n",
    "outages_df['% without power numeric'] = \"0.0\"\n",
    "outages_df['Number of outages'] = \"0\"\n",
    "outages_df['Total number of customers'] = \"\""
   ]
  },
  {
   "cell_type": "code",
   "execution_count": 17,
   "metadata": {
    "collapsed": false,
    "deletable": true,
    "editable": true
   },
   "outputs": [],
   "source": [
    "outages_df = outages_df[~outages_df['Municipality'].isin(mema_outages.keys())]"
   ]
  },
  {
   "cell_type": "code",
   "execution_count": 18,
   "metadata": {
    "collapsed": false,
    "deletable": true,
    "editable": true
   },
   "outputs": [],
   "source": [
    "for key, value in mema_outages.iteritems():\n",
    "    outages_df = outages_df.append({'Municipality': key,\n",
    "                                    '% without power': value['percent_of_total_string'],\n",
    "                                    '% without power numeric': value['percent_of_total'],\n",
    "                                    'Number of outages': value['customers_affected'],\n",
    "                                    'Total number of customers': value['customers_served']}, ignore_index=True)"
   ]
  },
  {
   "cell_type": "code",
   "execution_count": 19,
   "metadata": {
    "collapsed": true,
    "deletable": true,
    "editable": true
   },
   "outputs": [],
   "source": [
    "outages_df = outages_df.sort_values(by='Municipality', ascending=True)"
   ]
  },
  {
   "cell_type": "code",
   "execution_count": 20,
   "metadata": {
    "collapsed": true,
    "deletable": true,
    "editable": true
   },
   "outputs": [],
   "source": [
    "set_with_dataframe(wks, outages_df)"
   ]
  },
  {
   "cell_type": "code",
   "execution_count": 21,
   "metadata": {
    "collapsed": true
   },
   "outputs": [],
   "source": [
    "# Save to CSV file on local disk"
   ]
  },
  {
   "cell_type": "code",
   "execution_count": 22,
   "metadata": {
    "collapsed": true,
    "deletable": true,
    "editable": true
   },
   "outputs": [],
   "source": [
    "outages_df.to_csv(\"outages_df.csv\", index=False)"
   ]
  }
 ],
 "metadata": {
  "kernelspec": {
   "display_name": "Python 2",
   "language": "python",
   "name": "python2"
  },
  "language_info": {
   "codemirror_mode": {
    "name": "ipython",
    "version": 2
   },
   "file_extension": ".py",
   "mimetype": "text/x-python",
   "name": "python",
   "nbconvert_exporter": "python",
   "pygments_lexer": "ipython2",
   "version": "2.7.11"
  }
 },
 "nbformat": 4,
 "nbformat_minor": 2
}
